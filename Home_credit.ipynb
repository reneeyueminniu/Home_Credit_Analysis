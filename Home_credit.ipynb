{
 "cells": [
  {
   "cell_type": "code",
   "execution_count": 1,
   "metadata": {},
   "outputs": [],
   "source": [
    "import pandas as pd\n",
    "import numpy as np\n",
    "import seaborn as sns\n",
    "import matplotlib.pyplot as plt"
   ]
  },
  {
   "cell_type": "code",
   "execution_count": 2,
   "metadata": {},
   "outputs": [],
   "source": [
    "application_train=pd.read_csv('C:\\\\Users\\\\yn276\\\\Documents\\\\Yuemin Niu\\\\application_train.csv')"
   ]
  },
  {
   "cell_type": "code",
   "execution_count": 3,
   "metadata": {},
   "outputs": [
    {
     "data": {
      "text/html": [
       "<div>\n",
       "<style scoped>\n",
       "    .dataframe tbody tr th:only-of-type {\n",
       "        vertical-align: middle;\n",
       "    }\n",
       "\n",
       "    .dataframe tbody tr th {\n",
       "        vertical-align: top;\n",
       "    }\n",
       "\n",
       "    .dataframe thead th {\n",
       "        text-align: right;\n",
       "    }\n",
       "</style>\n",
       "<table border=\"1\" class=\"dataframe\">\n",
       "  <thead>\n",
       "    <tr style=\"text-align: right;\">\n",
       "      <th></th>\n",
       "      <th>SK_ID_CURR</th>\n",
       "      <th>TARGET</th>\n",
       "      <th>NAME_CONTRACT_TYPE</th>\n",
       "      <th>CODE_GENDER</th>\n",
       "      <th>FLAG_OWN_CAR</th>\n",
       "      <th>FLAG_OWN_REALTY</th>\n",
       "      <th>CNT_CHILDREN</th>\n",
       "      <th>AMT_INCOME_TOTAL</th>\n",
       "      <th>AMT_CREDIT</th>\n",
       "      <th>AMT_ANNUITY</th>\n",
       "      <th>...</th>\n",
       "      <th>FLAG_DOCUMENT_18</th>\n",
       "      <th>FLAG_DOCUMENT_19</th>\n",
       "      <th>FLAG_DOCUMENT_20</th>\n",
       "      <th>FLAG_DOCUMENT_21</th>\n",
       "      <th>AMT_REQ_CREDIT_BUREAU_HOUR</th>\n",
       "      <th>AMT_REQ_CREDIT_BUREAU_DAY</th>\n",
       "      <th>AMT_REQ_CREDIT_BUREAU_WEEK</th>\n",
       "      <th>AMT_REQ_CREDIT_BUREAU_MON</th>\n",
       "      <th>AMT_REQ_CREDIT_BUREAU_QRT</th>\n",
       "      <th>AMT_REQ_CREDIT_BUREAU_YEAR</th>\n",
       "    </tr>\n",
       "  </thead>\n",
       "  <tbody>\n",
       "    <tr>\n",
       "      <th>0</th>\n",
       "      <td>100002</td>\n",
       "      <td>1</td>\n",
       "      <td>Cash loans</td>\n",
       "      <td>M</td>\n",
       "      <td>N</td>\n",
       "      <td>Y</td>\n",
       "      <td>0</td>\n",
       "      <td>202500.0</td>\n",
       "      <td>406597.5</td>\n",
       "      <td>24700.5</td>\n",
       "      <td>...</td>\n",
       "      <td>0</td>\n",
       "      <td>0</td>\n",
       "      <td>0</td>\n",
       "      <td>0</td>\n",
       "      <td>0.0</td>\n",
       "      <td>0.0</td>\n",
       "      <td>0.0</td>\n",
       "      <td>0.0</td>\n",
       "      <td>0.0</td>\n",
       "      <td>1.0</td>\n",
       "    </tr>\n",
       "    <tr>\n",
       "      <th>1</th>\n",
       "      <td>100003</td>\n",
       "      <td>0</td>\n",
       "      <td>Cash loans</td>\n",
       "      <td>F</td>\n",
       "      <td>N</td>\n",
       "      <td>N</td>\n",
       "      <td>0</td>\n",
       "      <td>270000.0</td>\n",
       "      <td>1293502.5</td>\n",
       "      <td>35698.5</td>\n",
       "      <td>...</td>\n",
       "      <td>0</td>\n",
       "      <td>0</td>\n",
       "      <td>0</td>\n",
       "      <td>0</td>\n",
       "      <td>0.0</td>\n",
       "      <td>0.0</td>\n",
       "      <td>0.0</td>\n",
       "      <td>0.0</td>\n",
       "      <td>0.0</td>\n",
       "      <td>0.0</td>\n",
       "    </tr>\n",
       "    <tr>\n",
       "      <th>2</th>\n",
       "      <td>100004</td>\n",
       "      <td>0</td>\n",
       "      <td>Revolving loans</td>\n",
       "      <td>M</td>\n",
       "      <td>Y</td>\n",
       "      <td>Y</td>\n",
       "      <td>0</td>\n",
       "      <td>67500.0</td>\n",
       "      <td>135000.0</td>\n",
       "      <td>6750.0</td>\n",
       "      <td>...</td>\n",
       "      <td>0</td>\n",
       "      <td>0</td>\n",
       "      <td>0</td>\n",
       "      <td>0</td>\n",
       "      <td>0.0</td>\n",
       "      <td>0.0</td>\n",
       "      <td>0.0</td>\n",
       "      <td>0.0</td>\n",
       "      <td>0.0</td>\n",
       "      <td>0.0</td>\n",
       "    </tr>\n",
       "    <tr>\n",
       "      <th>3</th>\n",
       "      <td>100006</td>\n",
       "      <td>0</td>\n",
       "      <td>Cash loans</td>\n",
       "      <td>F</td>\n",
       "      <td>N</td>\n",
       "      <td>Y</td>\n",
       "      <td>0</td>\n",
       "      <td>135000.0</td>\n",
       "      <td>312682.5</td>\n",
       "      <td>29686.5</td>\n",
       "      <td>...</td>\n",
       "      <td>0</td>\n",
       "      <td>0</td>\n",
       "      <td>0</td>\n",
       "      <td>0</td>\n",
       "      <td>NaN</td>\n",
       "      <td>NaN</td>\n",
       "      <td>NaN</td>\n",
       "      <td>NaN</td>\n",
       "      <td>NaN</td>\n",
       "      <td>NaN</td>\n",
       "    </tr>\n",
       "    <tr>\n",
       "      <th>4</th>\n",
       "      <td>100007</td>\n",
       "      <td>0</td>\n",
       "      <td>Cash loans</td>\n",
       "      <td>M</td>\n",
       "      <td>N</td>\n",
       "      <td>Y</td>\n",
       "      <td>0</td>\n",
       "      <td>121500.0</td>\n",
       "      <td>513000.0</td>\n",
       "      <td>21865.5</td>\n",
       "      <td>...</td>\n",
       "      <td>0</td>\n",
       "      <td>0</td>\n",
       "      <td>0</td>\n",
       "      <td>0</td>\n",
       "      <td>0.0</td>\n",
       "      <td>0.0</td>\n",
       "      <td>0.0</td>\n",
       "      <td>0.0</td>\n",
       "      <td>0.0</td>\n",
       "      <td>0.0</td>\n",
       "    </tr>\n",
       "  </tbody>\n",
       "</table>\n",
       "<p>5 rows × 122 columns</p>\n",
       "</div>"
      ],
      "text/plain": [
       "   SK_ID_CURR  TARGET NAME_CONTRACT_TYPE CODE_GENDER FLAG_OWN_CAR  \\\n",
       "0      100002       1         Cash loans           M            N   \n",
       "1      100003       0         Cash loans           F            N   \n",
       "2      100004       0    Revolving loans           M            Y   \n",
       "3      100006       0         Cash loans           F            N   \n",
       "4      100007       0         Cash loans           M            N   \n",
       "\n",
       "  FLAG_OWN_REALTY  CNT_CHILDREN  AMT_INCOME_TOTAL  AMT_CREDIT  AMT_ANNUITY  \\\n",
       "0               Y             0          202500.0    406597.5      24700.5   \n",
       "1               N             0          270000.0   1293502.5      35698.5   \n",
       "2               Y             0           67500.0    135000.0       6750.0   \n",
       "3               Y             0          135000.0    312682.5      29686.5   \n",
       "4               Y             0          121500.0    513000.0      21865.5   \n",
       "\n",
       "              ...              FLAG_DOCUMENT_18 FLAG_DOCUMENT_19  \\\n",
       "0             ...                             0                0   \n",
       "1             ...                             0                0   \n",
       "2             ...                             0                0   \n",
       "3             ...                             0                0   \n",
       "4             ...                             0                0   \n",
       "\n",
       "  FLAG_DOCUMENT_20 FLAG_DOCUMENT_21 AMT_REQ_CREDIT_BUREAU_HOUR  \\\n",
       "0                0                0                        0.0   \n",
       "1                0                0                        0.0   \n",
       "2                0                0                        0.0   \n",
       "3                0                0                        NaN   \n",
       "4                0                0                        0.0   \n",
       "\n",
       "  AMT_REQ_CREDIT_BUREAU_DAY  AMT_REQ_CREDIT_BUREAU_WEEK  \\\n",
       "0                       0.0                         0.0   \n",
       "1                       0.0                         0.0   \n",
       "2                       0.0                         0.0   \n",
       "3                       NaN                         NaN   \n",
       "4                       0.0                         0.0   \n",
       "\n",
       "   AMT_REQ_CREDIT_BUREAU_MON  AMT_REQ_CREDIT_BUREAU_QRT  \\\n",
       "0                        0.0                        0.0   \n",
       "1                        0.0                        0.0   \n",
       "2                        0.0                        0.0   \n",
       "3                        NaN                        NaN   \n",
       "4                        0.0                        0.0   \n",
       "\n",
       "   AMT_REQ_CREDIT_BUREAU_YEAR  \n",
       "0                         1.0  \n",
       "1                         0.0  \n",
       "2                         0.0  \n",
       "3                         NaN  \n",
       "4                         0.0  \n",
       "\n",
       "[5 rows x 122 columns]"
      ]
     },
     "execution_count": 3,
     "metadata": {},
     "output_type": "execute_result"
    }
   ],
   "source": [
    "application_train.head()"
   ]
  },
  {
   "cell_type": "markdown",
   "metadata": {},
   "source": [
    "# Data Cleaning"
   ]
  },
  {
   "cell_type": "markdown",
   "metadata": {},
   "source": [
    "# Data Analysis"
   ]
  },
  {
   "cell_type": "code",
   "execution_count": 5,
   "metadata": {},
   "outputs": [
    {
     "data": {
      "text/plain": [
       "0    0.919271\n",
       "1    0.080729\n",
       "Name: TARGET, dtype: float64"
      ]
     },
     "execution_count": 5,
     "metadata": {},
     "output_type": "execute_result"
    }
   ],
   "source": [
    "application_train.TARGET.value_counts(normalize=True)"
   ]
  },
  {
   "cell_type": "code",
   "execution_count": 6,
   "metadata": {},
   "outputs": [
    {
     "data": {
      "text/html": [
       "<div>\n",
       "<style scoped>\n",
       "    .dataframe tbody tr th:only-of-type {\n",
       "        vertical-align: middle;\n",
       "    }\n",
       "\n",
       "    .dataframe tbody tr th {\n",
       "        vertical-align: top;\n",
       "    }\n",
       "\n",
       "    .dataframe thead th {\n",
       "        text-align: right;\n",
       "    }\n",
       "</style>\n",
       "<table border=\"1\" class=\"dataframe\">\n",
       "  <thead>\n",
       "    <tr style=\"text-align: right;\">\n",
       "      <th>NAME_CONTRACT_TYPE</th>\n",
       "      <th>Cash loans</th>\n",
       "      <th>Revolving loans</th>\n",
       "    </tr>\n",
       "    <tr>\n",
       "      <th>TARGET</th>\n",
       "      <th></th>\n",
       "      <th></th>\n",
       "    </tr>\n",
       "  </thead>\n",
       "  <tbody>\n",
       "    <tr>\n",
       "      <th>0</th>\n",
       "      <td>0.829274</td>\n",
       "      <td>0.089997</td>\n",
       "    </tr>\n",
       "    <tr>\n",
       "      <th>1</th>\n",
       "      <td>0.075513</td>\n",
       "      <td>0.005216</td>\n",
       "    </tr>\n",
       "  </tbody>\n",
       "</table>\n",
       "</div>"
      ],
      "text/plain": [
       "NAME_CONTRACT_TYPE  Cash loans  Revolving loans\n",
       "TARGET                                         \n",
       "0                     0.829274         0.089997\n",
       "1                     0.075513         0.005216"
      ]
     },
     "execution_count": 6,
     "metadata": {},
     "output_type": "execute_result"
    }
   ],
   "source": [
    "pd.crosstab(application_train['TARGET'],application_train['NAME_CONTRACT_TYPE'],dropna=False,normalize='all')"
   ]
  },
  {
   "cell_type": "code",
   "execution_count": 7,
   "metadata": {},
   "outputs": [
    {
     "data": {
      "text/html": [
       "<div>\n",
       "<style scoped>\n",
       "    .dataframe tbody tr th:only-of-type {\n",
       "        vertical-align: middle;\n",
       "    }\n",
       "\n",
       "    .dataframe tbody tr th {\n",
       "        vertical-align: top;\n",
       "    }\n",
       "\n",
       "    .dataframe thead th {\n",
       "        text-align: right;\n",
       "    }\n",
       "</style>\n",
       "<table border=\"1\" class=\"dataframe\">\n",
       "  <thead>\n",
       "    <tr style=\"text-align: right;\">\n",
       "      <th>CODE_GENDER</th>\n",
       "      <th>F</th>\n",
       "      <th>M</th>\n",
       "      <th>XNA</th>\n",
       "    </tr>\n",
       "    <tr>\n",
       "      <th>TARGET</th>\n",
       "      <th></th>\n",
       "      <th></th>\n",
       "      <th></th>\n",
       "    </tr>\n",
       "  </thead>\n",
       "  <tbody>\n",
       "    <tr>\n",
       "      <th>0</th>\n",
       "      <td>0.612264</td>\n",
       "      <td>0.306994</td>\n",
       "      <td>0.000013</td>\n",
       "    </tr>\n",
       "    <tr>\n",
       "      <th>1</th>\n",
       "      <td>0.046080</td>\n",
       "      <td>0.034649</td>\n",
       "      <td>0.000000</td>\n",
       "    </tr>\n",
       "  </tbody>\n",
       "</table>\n",
       "</div>"
      ],
      "text/plain": [
       "CODE_GENDER         F         M       XNA\n",
       "TARGET                                   \n",
       "0            0.612264  0.306994  0.000013\n",
       "1            0.046080  0.034649  0.000000"
      ]
     },
     "execution_count": 7,
     "metadata": {},
     "output_type": "execute_result"
    }
   ],
   "source": [
    "pd.crosstab(application_train['TARGET'],application_train['CODE_GENDER'],dropna=False,normalize='all')"
   ]
  },
  {
   "cell_type": "code",
   "execution_count": 20,
   "metadata": {},
   "outputs": [
    {
     "name": "stdout",
     "output_type": "stream",
     "text": [
      "There are 104587 people with cars. Amoung them, 7.2% repay the loan\n"
     ]
    }
   ],
   "source": [
    "print(\"There are {0} people with cars. Amoung them, {1}% repay the loan\").format(application_train[application_train['FLAG_OWN_CAR']=='Y'].shape[0],np.round(application_train[application_train['FLAG_OWN_CAR']=='Y'].TARGET.value_counts(normalize=True).values[1],3)*100)"
   ]
  },
  {
   "cell_type": "code",
   "execution_count": 21,
   "metadata": {},
   "outputs": [
    {
     "name": "stdout",
     "output_type": "stream",
     "text": [
      "There are 213312 people with realty. Amoung them, 8.0% repay the loan\n"
     ]
    }
   ],
   "source": [
    "print(\"There are {0} people with realty. Amoung them, {1}% repay the loan\").format(application_train[application_train['FLAG_OWN_REALTY']=='Y'].shape[0],np.round(application_train[application_train['FLAG_OWN_REALTY']=='Y'].TARGET.value_counts(normalize=True).values[1],3)*100)"
   ]
  },
  {
   "cell_type": "code",
   "execution_count": 27,
   "metadata": {
    "scrolled": true
   },
   "outputs": [
    {
     "data": {
      "text/plain": [
       "(array([215371.,  61119.,  26749.,   3717.,    513.]),\n",
       " array([0, 1, 2, 3, 4, 5]),\n",
       " <a list of 5 Patch objects>)"
      ]
     },
     "execution_count": 27,
     "metadata": {},
     "output_type": "execute_result"
    },
    {
     "data": {
      "image/png": "[encoded data removed]",
      "text/plain": [
       "<Figure size 432x288 with 1 Axes>"
      ]
     },
     "metadata": {},
     "output_type": "display_data"
    }
   ],
   "source": [
    "bin=[0,1,2,3,4,5]\n",
    "plt.hist(application_train.CNT_CHILDREN,bins=bin)\n",
    "# how to custom define bins"
   ]
  },
  {
   "cell_type": "code",
   "execution_count": 29,
   "metadata": {
    "scrolled": true
   },
   "outputs": [
    {
     "data": {
      "text/html": [
       "<div>\n",
       "<style scoped>\n",
       "    .dataframe tbody tr th:only-of-type {\n",
       "        vertical-align: middle;\n",
       "    }\n",
       "\n",
       "    .dataframe tbody tr th {\n",
       "        vertical-align: top;\n",
       "    }\n",
       "\n",
       "    .dataframe thead th {\n",
       "        text-align: right;\n",
       "    }\n",
       "</style>\n",
       "<table border=\"1\" class=\"dataframe\">\n",
       "  <thead>\n",
       "    <tr style=\"text-align: right;\">\n",
       "      <th>NAME_FAMILY_STATUS</th>\n",
       "      <th>Civil marriage</th>\n",
       "      <th>Married</th>\n",
       "      <th>Separated</th>\n",
       "      <th>Single / not married</th>\n",
       "      <th>Unknown</th>\n",
       "      <th>Widow</th>\n",
       "    </tr>\n",
       "    <tr>\n",
       "      <th>CNT_CHILDREN</th>\n",
       "      <th></th>\n",
       "      <th></th>\n",
       "      <th></th>\n",
       "      <th></th>\n",
       "      <th></th>\n",
       "      <th></th>\n",
       "    </tr>\n",
       "  </thead>\n",
       "  <tbody>\n",
       "    <tr>\n",
       "      <th>0</th>\n",
       "      <td>0.068118</td>\n",
       "      <td>0.411611</td>\n",
       "      <td>0.045956</td>\n",
       "      <td>0.126207</td>\n",
       "      <td>0.000007</td>\n",
       "      <td>0.048470</td>\n",
       "    </tr>\n",
       "    <tr>\n",
       "      <th>1</th>\n",
       "      <td>0.021424</td>\n",
       "      <td>0.142096</td>\n",
       "      <td>0.014273</td>\n",
       "      <td>0.018139</td>\n",
       "      <td>0.000000</td>\n",
       "      <td>0.002823</td>\n",
       "    </tr>\n",
       "    <tr>\n",
       "      <th>2</th>\n",
       "      <td>0.006296</td>\n",
       "      <td>0.073155</td>\n",
       "      <td>0.003613</td>\n",
       "      <td>0.003115</td>\n",
       "      <td>0.000000</td>\n",
       "      <td>0.000806</td>\n",
       "    </tr>\n",
       "    <tr>\n",
       "      <th>3</th>\n",
       "      <td>0.000852</td>\n",
       "      <td>0.010374</td>\n",
       "      <td>0.000397</td>\n",
       "      <td>0.000276</td>\n",
       "      <td>0.000000</td>\n",
       "      <td>0.000189</td>\n",
       "    </tr>\n",
       "    <tr>\n",
       "      <th>4</th>\n",
       "      <td>0.000107</td>\n",
       "      <td>0.001203</td>\n",
       "      <td>0.000039</td>\n",
       "      <td>0.000029</td>\n",
       "      <td>0.000000</td>\n",
       "      <td>0.000016</td>\n",
       "    </tr>\n",
       "    <tr>\n",
       "      <th>5</th>\n",
       "      <td>0.000016</td>\n",
       "      <td>0.000241</td>\n",
       "      <td>0.000007</td>\n",
       "      <td>0.000003</td>\n",
       "      <td>0.000000</td>\n",
       "      <td>0.000007</td>\n",
       "    </tr>\n",
       "    <tr>\n",
       "      <th>6</th>\n",
       "      <td>0.000007</td>\n",
       "      <td>0.000055</td>\n",
       "      <td>0.000003</td>\n",
       "      <td>0.000000</td>\n",
       "      <td>0.000000</td>\n",
       "      <td>0.000003</td>\n",
       "    </tr>\n",
       "    <tr>\n",
       "      <th>7</th>\n",
       "      <td>0.000003</td>\n",
       "      <td>0.000016</td>\n",
       "      <td>0.000000</td>\n",
       "      <td>0.000000</td>\n",
       "      <td>0.000000</td>\n",
       "      <td>0.000003</td>\n",
       "    </tr>\n",
       "    <tr>\n",
       "      <th>8</th>\n",
       "      <td>0.000000</td>\n",
       "      <td>0.000007</td>\n",
       "      <td>0.000000</td>\n",
       "      <td>0.000000</td>\n",
       "      <td>0.000000</td>\n",
       "      <td>0.000000</td>\n",
       "    </tr>\n",
       "    <tr>\n",
       "      <th>9</th>\n",
       "      <td>0.000003</td>\n",
       "      <td>0.000000</td>\n",
       "      <td>0.000000</td>\n",
       "      <td>0.000003</td>\n",
       "      <td>0.000000</td>\n",
       "      <td>0.000000</td>\n",
       "    </tr>\n",
       "    <tr>\n",
       "      <th>10</th>\n",
       "      <td>0.000000</td>\n",
       "      <td>0.000007</td>\n",
       "      <td>0.000000</td>\n",
       "      <td>0.000000</td>\n",
       "      <td>0.000000</td>\n",
       "      <td>0.000000</td>\n",
       "    </tr>\n",
       "    <tr>\n",
       "      <th>11</th>\n",
       "      <td>0.000000</td>\n",
       "      <td>0.000003</td>\n",
       "      <td>0.000000</td>\n",
       "      <td>0.000000</td>\n",
       "      <td>0.000000</td>\n",
       "      <td>0.000000</td>\n",
       "    </tr>\n",
       "    <tr>\n",
       "      <th>12</th>\n",
       "      <td>0.000000</td>\n",
       "      <td>0.000007</td>\n",
       "      <td>0.000000</td>\n",
       "      <td>0.000000</td>\n",
       "      <td>0.000000</td>\n",
       "      <td>0.000000</td>\n",
       "    </tr>\n",
       "    <tr>\n",
       "      <th>14</th>\n",
       "      <td>0.000000</td>\n",
       "      <td>0.000007</td>\n",
       "      <td>0.000003</td>\n",
       "      <td>0.000000</td>\n",
       "      <td>0.000000</td>\n",
       "      <td>0.000000</td>\n",
       "    </tr>\n",
       "    <tr>\n",
       "      <th>19</th>\n",
       "      <td>0.000000</td>\n",
       "      <td>0.000000</td>\n",
       "      <td>0.000000</td>\n",
       "      <td>0.000007</td>\n",
       "      <td>0.000000</td>\n",
       "      <td>0.000000</td>\n",
       "    </tr>\n",
       "  </tbody>\n",
       "</table>\n",
       "</div>"
      ],
      "text/plain": [
       "NAME_FAMILY_STATUS  Civil marriage   Married  Separated  Single / not married  \\\n",
       "CNT_CHILDREN                                                                    \n",
       "0                         0.068118  0.411611   0.045956              0.126207   \n",
       "1                         0.021424  0.142096   0.014273              0.018139   \n",
       "2                         0.006296  0.073155   0.003613              0.003115   \n",
       "3                         0.000852  0.010374   0.000397              0.000276   \n",
       "4                         0.000107  0.001203   0.000039              0.000029   \n",
       "5                         0.000016  0.000241   0.000007              0.000003   \n",
       "6                         0.000007  0.000055   0.000003              0.000000   \n",
       "7                         0.000003  0.000016   0.000000              0.000000   \n",
       "8                         0.000000  0.000007   0.000000              0.000000   \n",
       "9                         0.000003  0.000000   0.000000              0.000003   \n",
       "10                        0.000000  0.000007   0.000000              0.000000   \n",
       "11                        0.000000  0.000003   0.000000              0.000000   \n",
       "12                        0.000000  0.000007   0.000000              0.000000   \n",
       "14                        0.000000  0.000007   0.000003              0.000000   \n",
       "19                        0.000000  0.000000   0.000000              0.000007   \n",
       "\n",
       "NAME_FAMILY_STATUS   Unknown     Widow  \n",
       "CNT_CHILDREN                            \n",
       "0                   0.000007  0.048470  \n",
       "1                   0.000000  0.002823  \n",
       "2                   0.000000  0.000806  \n",
       "3                   0.000000  0.000189  \n",
       "4                   0.000000  0.000016  \n",
       "5                   0.000000  0.000007  \n",
       "6                   0.000000  0.000003  \n",
       "7                   0.000000  0.000003  \n",
       "8                   0.000000  0.000000  \n",
       "9                   0.000000  0.000000  \n",
       "10                  0.000000  0.000000  \n",
       "11                  0.000000  0.000000  \n",
       "12                  0.000000  0.000000  \n",
       "14                  0.000000  0.000000  \n",
       "19                  0.000000  0.000000  "
      ]
     },
     "execution_count": 29,
     "metadata": {},
     "output_type": "execute_result"
    }
   ],
   "source": [
    "pd.crosstab(application_train['CNT_CHILDREN'],application_train['NAME_FAMILY_STATUS'],normalize='all')"
   ]
  },
  {
   "cell_type": "code",
   "execution_count": 32,
   "metadata": {
    "scrolled": true
   },
   "outputs": [
    {
     "data": {
      "text/html": [
       "<div>\n",
       "<style scoped>\n",
       "    .dataframe tbody tr th:only-of-type {\n",
       "        vertical-align: middle;\n",
       "    }\n",
       "\n",
       "    .dataframe tbody tr th {\n",
       "        vertical-align: top;\n",
       "    }\n",
       "\n",
       "    .dataframe thead th {\n",
       "        text-align: right;\n",
       "    }\n",
       "</style>\n",
       "<table border=\"1\" class=\"dataframe\">\n",
       "  <thead>\n",
       "    <tr style=\"text-align: right;\">\n",
       "      <th>NAME_TYPE_SUITE</th>\n",
       "      <th>Children</th>\n",
       "      <th>Family</th>\n",
       "      <th>Group of people</th>\n",
       "      <th>Other_A</th>\n",
       "      <th>Other_B</th>\n",
       "      <th>Spouse, partner</th>\n",
       "      <th>Unaccompanied</th>\n",
       "    </tr>\n",
       "    <tr>\n",
       "      <th>NAME_FAMILY_STATUS</th>\n",
       "      <th></th>\n",
       "      <th></th>\n",
       "      <th></th>\n",
       "      <th></th>\n",
       "      <th></th>\n",
       "      <th></th>\n",
       "      <th></th>\n",
       "    </tr>\n",
       "  </thead>\n",
       "  <tbody>\n",
       "    <tr>\n",
       "      <th>Civil marriage</th>\n",
       "      <td>253</td>\n",
       "      <td>3702</td>\n",
       "      <td>29</td>\n",
       "      <td>147</td>\n",
       "      <td>171</td>\n",
       "      <td>1247</td>\n",
       "      <td>24112</td>\n",
       "    </tr>\n",
       "    <tr>\n",
       "      <th>Married</th>\n",
       "      <td>1940</td>\n",
       "      <td>28617</td>\n",
       "      <td>165</td>\n",
       "      <td>340</td>\n",
       "      <td>854</td>\n",
       "      <td>9685</td>\n",
       "      <td>154047</td>\n",
       "    </tr>\n",
       "    <tr>\n",
       "      <th>Separated</th>\n",
       "      <td>318</td>\n",
       "      <td>1747</td>\n",
       "      <td>20</td>\n",
       "      <td>70</td>\n",
       "      <td>132</td>\n",
       "      <td>74</td>\n",
       "      <td>17334</td>\n",
       "    </tr>\n",
       "    <tr>\n",
       "      <th>Single / not married</th>\n",
       "      <td>378</td>\n",
       "      <td>4150</td>\n",
       "      <td>44</td>\n",
       "      <td>268</td>\n",
       "      <td>486</td>\n",
       "      <td>345</td>\n",
       "      <td>39529</td>\n",
       "    </tr>\n",
       "    <tr>\n",
       "      <th>Widow</th>\n",
       "      <td>378</td>\n",
       "      <td>1933</td>\n",
       "      <td>13</td>\n",
       "      <td>41</td>\n",
       "      <td>127</td>\n",
       "      <td>19</td>\n",
       "      <td>13504</td>\n",
       "    </tr>\n",
       "  </tbody>\n",
       "</table>\n",
       "</div>"
      ],
      "text/plain": [
       "NAME_TYPE_SUITE       Children  Family  Group of people  Other_A  Other_B  \\\n",
       "NAME_FAMILY_STATUS                                                          \n",
       "Civil marriage             253    3702               29      147      171   \n",
       "Married                   1940   28617              165      340      854   \n",
       "Separated                  318    1747               20       70      132   \n",
       "Single / not married       378    4150               44      268      486   \n",
       "Widow                      378    1933               13       41      127   \n",
       "\n",
       "NAME_TYPE_SUITE       Spouse, partner  Unaccompanied  \n",
       "NAME_FAMILY_STATUS                                    \n",
       "Civil marriage                   1247          24112  \n",
       "Married                          9685         154047  \n",
       "Separated                          74          17334  \n",
       "Single / not married              345          39529  \n",
       "Widow                              19          13504  "
      ]
     },
     "execution_count": 32,
     "metadata": {},
     "output_type": "execute_result"
    }
   ],
   "source": [
    "pd.crosstab(application_train['NAME_FAMILY_STATUS'],application_train['NAME_TYPE_SUITE'])"
   ]
  },
  {
   "cell_type": "code",
   "execution_count": 34,
   "metadata": {
    "scrolled": true
   },
   "outputs": [
    {
     "data": {
      "text/html": [
       "<div>\n",
       "<style scoped>\n",
       "    .dataframe tbody tr th:only-of-type {\n",
       "        vertical-align: middle;\n",
       "    }\n",
       "\n",
       "    .dataframe tbody tr th {\n",
       "        vertical-align: top;\n",
       "    }\n",
       "\n",
       "    .dataframe thead th {\n",
       "        text-align: right;\n",
       "    }\n",
       "</style>\n",
       "<table border=\"1\" class=\"dataframe\">\n",
       "  <thead>\n",
       "    <tr style=\"text-align: right;\">\n",
       "      <th>NAME_INCOME_TYPE</th>\n",
       "      <th>Businessman</th>\n",
       "      <th>Commercial associate</th>\n",
       "      <th>Maternity leave</th>\n",
       "      <th>Pensioner</th>\n",
       "      <th>State servant</th>\n",
       "      <th>Student</th>\n",
       "      <th>Working</th>\n",
       "    </tr>\n",
       "    <tr>\n",
       "      <th>OCCUPATION_TYPE</th>\n",
       "      <th></th>\n",
       "      <th></th>\n",
       "      <th></th>\n",
       "      <th></th>\n",
       "      <th></th>\n",
       "      <th></th>\n",
       "      <th></th>\n",
       "    </tr>\n",
       "  </thead>\n",
       "  <tbody>\n",
       "    <tr>\n",
       "      <th>Accountants</th>\n",
       "      <td>0</td>\n",
       "      <td>3970</td>\n",
       "      <td>1</td>\n",
       "      <td>0</td>\n",
       "      <td>729</td>\n",
       "      <td>1</td>\n",
       "      <td>5112</td>\n",
       "    </tr>\n",
       "    <tr>\n",
       "      <th>Cleaning staff</th>\n",
       "      <td>0</td>\n",
       "      <td>892</td>\n",
       "      <td>0</td>\n",
       "      <td>2</td>\n",
       "      <td>261</td>\n",
       "      <td>0</td>\n",
       "      <td>3498</td>\n",
       "    </tr>\n",
       "    <tr>\n",
       "      <th>Cooking staff</th>\n",
       "      <td>0</td>\n",
       "      <td>1305</td>\n",
       "      <td>0</td>\n",
       "      <td>0</td>\n",
       "      <td>453</td>\n",
       "      <td>0</td>\n",
       "      <td>4188</td>\n",
       "    </tr>\n",
       "    <tr>\n",
       "      <th>Core staff</th>\n",
       "      <td>1</td>\n",
       "      <td>6528</td>\n",
       "      <td>2</td>\n",
       "      <td>0</td>\n",
       "      <td>6956</td>\n",
       "      <td>3</td>\n",
       "      <td>14080</td>\n",
       "    </tr>\n",
       "    <tr>\n",
       "      <th>Drivers</th>\n",
       "      <td>0</td>\n",
       "      <td>4916</td>\n",
       "      <td>0</td>\n",
       "      <td>0</td>\n",
       "      <td>815</td>\n",
       "      <td>1</td>\n",
       "      <td>12871</td>\n",
       "    </tr>\n",
       "    <tr>\n",
       "      <th>HR staff</th>\n",
       "      <td>0</td>\n",
       "      <td>220</td>\n",
       "      <td>0</td>\n",
       "      <td>0</td>\n",
       "      <td>64</td>\n",
       "      <td>0</td>\n",
       "      <td>279</td>\n",
       "    </tr>\n",
       "    <tr>\n",
       "      <th>High skill tech staff</th>\n",
       "      <td>0</td>\n",
       "      <td>3495</td>\n",
       "      <td>0</td>\n",
       "      <td>0</td>\n",
       "      <td>1033</td>\n",
       "      <td>0</td>\n",
       "      <td>6852</td>\n",
       "    </tr>\n",
       "    <tr>\n",
       "      <th>IT staff</th>\n",
       "      <td>0</td>\n",
       "      <td>204</td>\n",
       "      <td>0</td>\n",
       "      <td>0</td>\n",
       "      <td>55</td>\n",
       "      <td>0</td>\n",
       "      <td>267</td>\n",
       "    </tr>\n",
       "    <tr>\n",
       "      <th>Laborers</th>\n",
       "      <td>0</td>\n",
       "      <td>12763</td>\n",
       "      <td>1</td>\n",
       "      <td>1</td>\n",
       "      <td>1868</td>\n",
       "      <td>5</td>\n",
       "      <td>40548</td>\n",
       "    </tr>\n",
       "    <tr>\n",
       "      <th>Low-skill Laborers</th>\n",
       "      <td>0</td>\n",
       "      <td>370</td>\n",
       "      <td>0</td>\n",
       "      <td>0</td>\n",
       "      <td>25</td>\n",
       "      <td>2</td>\n",
       "      <td>1696</td>\n",
       "    </tr>\n",
       "    <tr>\n",
       "      <th>Managers</th>\n",
       "      <td>7</td>\n",
       "      <td>8916</td>\n",
       "      <td>0</td>\n",
       "      <td>0</td>\n",
       "      <td>2142</td>\n",
       "      <td>0</td>\n",
       "      <td>10306</td>\n",
       "    </tr>\n",
       "    <tr>\n",
       "      <th>Medicine staff</th>\n",
       "      <td>0</td>\n",
       "      <td>1036</td>\n",
       "      <td>0</td>\n",
       "      <td>1</td>\n",
       "      <td>2585</td>\n",
       "      <td>0</td>\n",
       "      <td>4915</td>\n",
       "    </tr>\n",
       "    <tr>\n",
       "      <th>Private service staff</th>\n",
       "      <td>0</td>\n",
       "      <td>989</td>\n",
       "      <td>0</td>\n",
       "      <td>0</td>\n",
       "      <td>38</td>\n",
       "      <td>0</td>\n",
       "      <td>1625</td>\n",
       "    </tr>\n",
       "    <tr>\n",
       "      <th>Realty agents</th>\n",
       "      <td>0</td>\n",
       "      <td>324</td>\n",
       "      <td>0</td>\n",
       "      <td>0</td>\n",
       "      <td>9</td>\n",
       "      <td>0</td>\n",
       "      <td>418</td>\n",
       "    </tr>\n",
       "    <tr>\n",
       "      <th>Sales staff</th>\n",
       "      <td>0</td>\n",
       "      <td>11104</td>\n",
       "      <td>0</td>\n",
       "      <td>1</td>\n",
       "      <td>186</td>\n",
       "      <td>0</td>\n",
       "      <td>20811</td>\n",
       "    </tr>\n",
       "    <tr>\n",
       "      <th>Secretaries</th>\n",
       "      <td>0</td>\n",
       "      <td>343</td>\n",
       "      <td>0</td>\n",
       "      <td>0</td>\n",
       "      <td>264</td>\n",
       "      <td>0</td>\n",
       "      <td>698</td>\n",
       "    </tr>\n",
       "    <tr>\n",
       "      <th>Security staff</th>\n",
       "      <td>0</td>\n",
       "      <td>1559</td>\n",
       "      <td>0</td>\n",
       "      <td>0</td>\n",
       "      <td>380</td>\n",
       "      <td>0</td>\n",
       "      <td>4782</td>\n",
       "    </tr>\n",
       "    <tr>\n",
       "      <th>Waiters/barmen staff</th>\n",
       "      <td>0</td>\n",
       "      <td>386</td>\n",
       "      <td>0</td>\n",
       "      <td>0</td>\n",
       "      <td>53</td>\n",
       "      <td>1</td>\n",
       "      <td>908</td>\n",
       "    </tr>\n",
       "  </tbody>\n",
       "</table>\n",
       "</div>"
      ],
      "text/plain": [
       "NAME_INCOME_TYPE       Businessman  Commercial associate  Maternity leave  \\\n",
       "OCCUPATION_TYPE                                                             \n",
       "Accountants                      0                  3970                1   \n",
       "Cleaning staff                   0                   892                0   \n",
       "Cooking staff                    0                  1305                0   \n",
       "Core staff                       1                  6528                2   \n",
       "Drivers                          0                  4916                0   \n",
       "HR staff                         0                   220                0   \n",
       "High skill tech staff            0                  3495                0   \n",
       "IT staff                         0                   204                0   \n",
       "Laborers                         0                 12763                1   \n",
       "Low-skill Laborers               0                   370                0   \n",
       "Managers                         7                  8916                0   \n",
       "Medicine staff                   0                  1036                0   \n",
       "Private service staff            0                   989                0   \n",
       "Realty agents                    0                   324                0   \n",
       "Sales staff                      0                 11104                0   \n",
       "Secretaries                      0                   343                0   \n",
       "Security staff                   0                  1559                0   \n",
       "Waiters/barmen staff             0                   386                0   \n",
       "\n",
       "NAME_INCOME_TYPE       Pensioner  State servant  Student  Working  \n",
       "OCCUPATION_TYPE                                                    \n",
       "Accountants                    0            729        1     5112  \n",
       "Cleaning staff                 2            261        0     3498  \n",
       "Cooking staff                  0            453        0     4188  \n",
       "Core staff                     0           6956        3    14080  \n",
       "Drivers                        0            815        1    12871  \n",
       "HR staff                       0             64        0      279  \n",
       "High skill tech staff          0           1033        0     6852  \n",
       "IT staff                       0             55        0      267  \n",
       "Laborers                       1           1868        5    40548  \n",
       "Low-skill Laborers             0             25        2     1696  \n",
       "Managers                       0           2142        0    10306  \n",
       "Medicine staff                 1           2585        0     4915  \n",
       "Private service staff          0             38        0     1625  \n",
       "Realty agents                  0              9        0      418  \n",
       "Sales staff                    1            186        0    20811  \n",
       "Secretaries                    0            264        0      698  \n",
       "Security staff                 0            380        0     4782  \n",
       "Waiters/barmen staff           0             53        1      908  "
      ]
     },
     "execution_count": 34,
     "metadata": {},
     "output_type": "execute_result"
    }
   ],
   "source": [
    "pd.crosstab(application_train['OCCUPATION_TYPE'],application_train['NAME_INCOME_TYPE'])"
   ]
  },
  {
   "cell_type": "code",
   "execution_count": 71,
   "metadata": {
    "scrolled": false
   },
   "outputs": [],
   "source": [
    "INCOME_TYPE_TOTAL['INCOME']=application_train.groupby('NAME_INCOME_TYPE')['AMT_INCOME_TOTAL'].mean()\n",
    "INCOME_TYPE_TOTAL=pd.DataFrame(INCOME_TYPE_TOTAL)"
   ]
  },
  {
   "cell_type": "code",
   "execution_count": 72,
   "metadata": {
    "scrolled": true
   },
   "outputs": [
    {
     "data": {
      "text/html": [
       "<div>\n",
       "<style scoped>\n",
       "    .dataframe tbody tr th:only-of-type {\n",
       "        vertical-align: middle;\n",
       "    }\n",
       "\n",
       "    .dataframe tbody tr th {\n",
       "        vertical-align: top;\n",
       "    }\n",
       "\n",
       "    .dataframe thead th {\n",
       "        text-align: right;\n",
       "    }\n",
       "</style>\n",
       "<table border=\"1\" class=\"dataframe\">\n",
       "  <thead>\n",
       "    <tr style=\"text-align: right;\">\n",
       "      <th></th>\n",
       "      <th>AMT_INCOME_TOTAL</th>\n",
       "      <th>INCOME</th>\n",
       "    </tr>\n",
       "    <tr>\n",
       "      <th>NAME_INCOME_TYPE</th>\n",
       "      <th></th>\n",
       "      <th></th>\n",
       "    </tr>\n",
       "  </thead>\n",
       "  <tbody>\n",
       "    <tr>\n",
       "      <th>Businessman</th>\n",
       "      <td>652500.000000</td>\n",
       "      <td>652500.000000</td>\n",
       "    </tr>\n",
       "    <tr>\n",
       "      <th>Commercial associate</th>\n",
       "      <td>202955.327289</td>\n",
       "      <td>202955.327289</td>\n",
       "    </tr>\n",
       "    <tr>\n",
       "      <th>Maternity leave</th>\n",
       "      <td>140400.000000</td>\n",
       "      <td>140400.000000</td>\n",
       "    </tr>\n",
       "    <tr>\n",
       "      <th>Pensioner</th>\n",
       "      <td>136401.292273</td>\n",
       "      <td>136401.292273</td>\n",
       "    </tr>\n",
       "    <tr>\n",
       "      <th>State servant</th>\n",
       "      <td>179737.969506</td>\n",
       "      <td>179737.969506</td>\n",
       "    </tr>\n",
       "    <tr>\n",
       "      <th>Student</th>\n",
       "      <td>170500.000000</td>\n",
       "      <td>170500.000000</td>\n",
       "    </tr>\n",
       "    <tr>\n",
       "      <th>Unemployed</th>\n",
       "      <td>110536.363636</td>\n",
       "      <td>110536.363636</td>\n",
       "    </tr>\n",
       "    <tr>\n",
       "      <th>Working</th>\n",
       "      <td>163169.889223</td>\n",
       "      <td>163169.889223</td>\n",
       "    </tr>\n",
       "  </tbody>\n",
       "</table>\n",
       "</div>"
      ],
      "text/plain": [
       "                      AMT_INCOME_TOTAL         INCOME\n",
       "NAME_INCOME_TYPE                                     \n",
       "Businessman              652500.000000  652500.000000\n",
       "Commercial associate     202955.327289  202955.327289\n",
       "Maternity leave          140400.000000  140400.000000\n",
       "Pensioner                136401.292273  136401.292273\n",
       "State servant            179737.969506  179737.969506\n",
       "Student                  170500.000000  170500.000000\n",
       "Unemployed               110536.363636  110536.363636\n",
       "Working                  163169.889223  163169.889223"
      ]
     },
     "execution_count": 72,
     "metadata": {},
     "output_type": "execute_result"
    }
   ],
   "source": [
    "INCOME_TYPE_TOTAL"
   ]
  },
  {
   "cell_type": "code",
   "execution_count": 73,
   "metadata": {
    "scrolled": false
   },
   "outputs": [
    {
     "data": {
      "text/plain": [
       "NAME_INCOME_TYPE\n",
       "Businessman             652500.000000\n",
       "Commercial associate    202955.327289\n",
       "Maternity leave         140400.000000\n",
       "Pensioner               136401.292273\n",
       "State servant           179737.969506\n",
       "Student                 170500.000000\n",
       "Unemployed              110536.363636\n",
       "Working                 163169.889223\n",
       "Name: INCOME, dtype: float64"
      ]
     },
     "execution_count": 73,
     "metadata": {},
     "output_type": "execute_result"
    }
   ],
   "source": [
    "INCOME_TYPE_TOTAL['INCOME']"
   ]
  },
  {
   "cell_type": "code",
   "execution_count": 100,
   "metadata": {
    "scrolled": false
   },
   "outputs": [
    {
     "data": {
      "image/png": "[encoded data removed]",
      "text/plain": [
       "<Figure size 432x288 with 1 Axes>"
      ]
     },
     "metadata": {},
     "output_type": "display_data"
    }
   ],
   "source": [
    "x=np.arange(8)\n",
    "plt.bar(x,INCOME_TYPE_TOTAL['INCOME'].values)\n",
    "plt.xticks(x,('Business','Commercial','Maternity','Pensioner','State servant','Student','Unemployed','working'))\n",
    "plt.tight_layout(pad=2,w_pad=6,h_pad=0.01)\n",
    "plt.show()"
   ]
  },
  {
   "cell_type": "code",
   "execution_count": 101,
   "metadata": {},
   "outputs": [
    {
     "data": {
      "text/plain": [
       "<matplotlib.axes._subplots.AxesSubplot at 0x16411e48>"
      ]
     },
     "execution_count": 101,
     "metadata": {},
     "output_type": "execute_result"
    },
    {
     "data": {
      "image/png": "[encoded data removed]",
      "text/plain": [
       "<Figure size 432x288 with 1 Axes>"
      ]
     },
     "metadata": {},
     "output_type": "display_data"
    }
   ],
   "source": [
    "sns.countplot(application_train['NAME_HOUSING_TYPE'])"
   ]
  },
  {
   "cell_type": "code",
   "execution_count": 103,
   "metadata": {},
   "outputs": [
    {
     "data": {
      "text/plain": [
       "<matplotlib.axes._subplots.AxesSubplot at 0x143fbe48>"
      ]
     },
     "execution_count": 103,
     "metadata": {},
     "output_type": "execute_result"
    },
    {
     "data": {
      "image/png": "[encoded data removed]",
      "text/plain": [
       "<Figure size 432x288 with 1 Axes>"
      ]
     },
     "metadata": {},
     "output_type": "display_data"
    }
   ],
   "source": [
    "sns.countplot(application_train['OBS_30_CNT_SOCIAL_CIRCLE'])"
   ]
  },
  {
   "cell_type": "code",
   "execution_count": 104,
   "metadata": {},
   "outputs": [],
   "source": [
    "application_train.loc[application_train['OBS_30_CNT_SOCIAL_CIRCLE']>1,'OBS_30_CNT_SOCIAL_CIRCLE']='1+'"
   ]
  },
  {
   "cell_type": "code",
   "execution_count": 108,
   "metadata": {
    "scrolled": false
   },
   "outputs": [
    {
     "data": {
      "text/plain": [
       "<matplotlib.axes._subplots.AxesSubplot at 0xc0fc630>"
      ]
     },
     "execution_count": 108,
     "metadata": {},
     "output_type": "execute_result"
    },
    {
     "data": {
      "image/png": "[encoded data removed]",
      "text/plain": [
       "<Figure size 432x288 with 1 Axes>"
      ]
     },
     "metadata": {},
     "output_type": "display_data"
    }
   ],
   "source": [
    "sns.boxplot(application_train[application_train['AMT_INCOME_TOTAL']<np.percentile(application_train['AMT_INCOME_TOTAL'],90)]['AMT_INCOME_TOTAL'])"
   ]
  },
  {
   "cell_type": "code",
   "execution_count": 110,
   "metadata": {
    "scrolled": true
   },
   "outputs": [
    {
     "data": {
      "text/plain": [
       "(array([3.07508e+05, 2.00000e+00, 0.00000e+00, 0.00000e+00, 0.00000e+00,\n",
       "        0.00000e+00, 0.00000e+00, 0.00000e+00, 0.00000e+00, 1.00000e+00]),\n",
       " array([2.56500000e+04, 1.17230850e+07, 2.34205200e+07, 3.51179550e+07,\n",
       "        4.68153900e+07, 5.85128250e+07, 7.02102600e+07, 8.19076950e+07,\n",
       "        9.36051300e+07, 1.05302565e+08, 1.17000000e+08]),\n",
       " <a list of 10 Patch objects>)"
      ]
     },
     "execution_count": 110,
     "metadata": {},
     "output_type": "execute_result"
    },
    {
     "data": {
      "image/png": "[encoded data removed]",
      "text/plain": [
       "<Figure size 432x288 with 1 Axes>"
      ]
     },
     "metadata": {},
     "output_type": "display_data"
    }
   ],
   "source": [
    "application_train.groupby('TARGET').agg({'AMT_INCOME_TOTAL':['mean','median','count']})\n",
    "plt.hist(application_train['AMT_INCOME_TOTAL'])"
   ]
  },
  {
   "cell_type": "code",
   "execution_count": null,
   "metadata": {},
   "outputs": [],
   "source": []
  }
 ],
 "metadata": {
  "kernelspec": {
   "display_name": "Python 2",
   "language": "python",
   "name": "python2"
  },
  "language_info": {
   "codemirror_mode": {
    "name": "ipython",
    "version": 2
   },
   "file_extension": ".py",
   "mimetype": "text/x-python",
   "name": "python",
   "nbconvert_exporter": "python",
   "pygments_lexer": "ipython2",
   "version": "2.7.15"
  }
 },
 "nbformat": 4,
 "nbformat_minor": 2
}
